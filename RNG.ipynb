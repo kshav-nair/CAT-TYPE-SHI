{
  "nbformat": 4,
  "nbformat_minor": 0,
  "metadata": {
    "colab": {
      "private_outputs": true,
      "provenance": [],
      "authorship_tag": "ABX9TyNuvczpPdwKerdOWmNasJNH",
      "include_colab_link": true
    },
    "kernelspec": {
      "name": "python3",
      "display_name": "Python 3"
    },
    "language_info": {
      "name": "python"
    }
  },
  "cells": [
    {
      "cell_type": "markdown",
      "metadata": {
        "id": "view-in-github",
        "colab_type": "text"
      },
      "source": [
        "<a href=\"https://colab.research.google.com/github/kshav-nair/CAT-TYPE-SHI/blob/main/RNG.ipynb\" target=\"_parent\"><img src=\"https://colab.research.google.com/assets/colab-badge.svg\" alt=\"Open In Colab\"/></a>"
      ]
    },
    {
      "cell_type": "code",
      "execution_count": null,
      "metadata": {
        "id": "K6pGDehYyYEx"
      },
      "outputs": [],
      "source": [
        "##GENERATE 5 2-DIGIT RANDOM NUMBERS FOR ANY GIVEN SEED\n",
        "\n",
        "def custom_rng(seed, count=5):\n",
        "    x = seed & 0xFFFFFFFFFFFFFFFF  # Ensure 64-bit seed\n",
        "    results = []\n",
        "\n",
        "    for _ in range(count):\n",
        "        # XOR-Shift logic\n",
        "        x ^= (x << 13) & 0xFFFFFFFFFFFFFFFF\n",
        "        x ^= (x >> 7)\n",
        "        x ^= (x << 17) & 0xFFFFFFFFFFFFFFFF\n",
        "\n",
        "        # Map result to 2-digit number (10 to 99)\n",
        "        rand_num = 10 + (x % 90)  # 90 numbers from 10 to 99\n",
        "        results.append(rand_num)\n",
        "\n",
        "    return results\n",
        "\n",
        "\n",
        "seed_input = int(input(\"Enter your seed: \"))\n",
        "random_numbers = custom_rng(seed_input)\n",
        "\n",
        "print(\"Generated 2-digit random numbers:\")\n",
        "for num in random_numbers:\n",
        "    print(num)\n"
      ]
    },
    {
      "cell_type": "code",
      "source": [
        "##GENERATE MILLION/Billion 2-DIGIT RANDOM NUMBERS FOR ANY GIVEN SEED\n",
        "\n",
        "def save_rng_binary(seed, count=100000000, filename=\"rng_optput.bin\"):\n",
        "    x = seed & 0xFFFFFFFFFFFFFFFF\n",
        "    with open(filename, \"wb\") as f:\n",
        "        for _ in range(count):\n",
        "            x ^= (x << 13) & 0xFFFFFFFFFFFFFFFF\n",
        "            x ^= (x >> 7)\n",
        "            x ^= (x << 17) & 0xFFFFFFFFFFFFFFFF\n",
        "            rand_byte = (x % 256).to_bytes(1, 'little')  # 1 byte output\n",
        "            f.write(rand_byte)\n",
        "\n",
        "# Example run\n",
        "seed_input = int(input(\"Enter seed: \"))\n",
        "save_rng_binary(seed_input, 100000000)\n"
      ],
      "metadata": {
        "id": "sgOyxlnRzQtA"
      },
      "execution_count": null,
      "outputs": []
    },
    {
      "cell_type": "code",
      "source": [
        "import hashlib\n",
        "\n",
        "def hybrid_rng(seed, count=10_000_0000, filename=\"rng_output.bin\"):\n",
        "    x = seed & 0xFFFFFFFFFFFFFFFF  # 64-bit seed\n",
        "    with open(filename, \"wb\") as f:\n",
        "        for _ in range(count):\n",
        "            # XOR-shift\n",
        "            x ^= (x << 13) & 0xFFFFFFFFFFFFFFFF\n",
        "            x ^= (x >> 7)\n",
        "            x ^= (x << 17) & 0xFFFFFFFFFFFFFFFF\n",
        "\n",
        "            # SHA-256\n",
        "            x_str = str(x).encode()\n",
        "            hashed = hashlib.sha256(x_str).digest()  # 32 bytes\n",
        "\n",
        "            # Write mapped values (0–99) from first 8 bytes\n",
        "            mapped_bytes = bytes([b % 100 for b in hashed[:8]])\n",
        "            f.write(mapped_bytes)\n",
        "\n",
        "# 👇 Run this\n",
        "if __name__ == \"__main__\":\n",
        "    seed_input = int(input(\"Enter seed: \"))\n",
        "    hybrid_rng(seed_input, count=10_000_000)\n",
        "    print(\"Saved as rng_output.bin\")\n"
      ],
      "metadata": {
        "id": "L5BuBc7F0ftg"
      },
      "execution_count": null,
      "outputs": []
    },
    {
      "cell_type": "code",
      "source": [
        "import matplotlib.pyplot as plt\n",
        "\n",
        "# Read raw bytes from the file\n",
        "with open(\"rng_output.bin\", \"rb\") as f:\n",
        "    data = f.read()\n",
        "\n",
        "# Convert to list of integers (0–99)\n",
        "numbers = [b % 100 for b in data]  # Map bytes to 0–99 range\n",
        "\n",
        "# Optional: limit to 100000 for scatter plot\n",
        "x = list(range(len(numbers[:100000])))\n",
        "y = numbers[:100000]\n",
        "\n",
        "plt.figure(figsize=(10, 5))\n",
        "plt.scatter(x, y, s=5)\n",
        "plt.title(\"Scatter Plot from .bin RNG Output (0–99)\")\n",
        "plt.xlabel(\"Index\")\n",
        "plt.ylabel(\"Value (0–99)\")\n",
        "plt.grid(True)\n",
        "plt.tight_layout()\n",
        "plt.show()\n"
      ],
      "metadata": {
        "id": "wSMLrCLvHOiF"
      },
      "execution_count": null,
      "outputs": []
    },
    {
      "cell_type": "code",
      "source": [
        "import matplotlib.pyplot as plt\n",
        "\n",
        "plt.hist(y, bins=range(0, 257), edgecolor='black')\n",
        "plt.title(\"Histogram of RNG Output (0–255)\")\n",
        "plt.xlabel(\"Value\")\n",
        "plt.ylabel(\"Frequency\")\n",
        "plt.grid(True)\n",
        "plt.tight_layout()\n",
        "plt.show()\n"
      ],
      "metadata": {
        "id": "m041GTMmIBEK"
      },
      "execution_count": null,
      "outputs": []
    }
  ]
}